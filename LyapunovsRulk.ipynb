{
 "cells": [
  {
   "cell_type": "code",
   "execution_count": 156,
   "metadata": {},
   "outputs": [],
   "source": [
    "import matplotlib.pyplot as plt\n",
    "import numpy as np\n",
    "import math\n",
    "from numpy import array\n",
    "from numpy.linalg import norm\n",
    "n=20000\n",
    "n1=10000\n",
    "alpha_1=3.9\n",
    "alpha_2=3.9\n",
    "alpha_3=3.9\n",
    "sigma_1=1\n",
    "sigma_2=1\n",
    "sigma_3=1\n",
    "mu_1=0.001\n",
    "mu_2=0.001\n",
    "mu_3=0.001\n",
    "gamma_1=0\n",
    "gamma_2=0\n",
    "g1=7\n",
    "g2=7\n",
    "x_rp=-1.5\n",
    "betta_syn=0.0001\n",
    "sigma_syn=1\n",
    "\n",
    "def fun(x, y, z, a):\n",
    "    if x <= 0:\n",
    "        res=a/(1-x)+y\n",
    "    elif (x<(a+y)) and (z<=0):\n",
    "        res=a + y\n",
    "    elif (x>=(a+y)) or (z>0):\n",
    "        res=-1\n",
    "    return res\n",
    "\n",
    "def dfdx(x, y, z, a, xo1, xo2):\n",
    "    yI=y+betta_syn*(g1*xi(xo1)*(x_rp-x)+g2*xi(xo2)*(x_rp-x))/2 #calculating y+I chemical\n",
    "    if x <= 0:\n",
    "        res=a/((1-x)*(1-x))-betta_syn*(g1*xi(xo1)+g2*(xi(xo2)))/2\n",
    "    elif (x<(a+yI)) and (z<=0):\n",
    "        res=-betta_syn*(g1*xi(xo1)+g2*(xi(xo2)))/2\n",
    "    elif (x>=(a+yI)) or (z>0):\n",
    "        res=0\n",
    "    return res\n",
    "\n",
    "def dfdy(x, y, z, a, xo1, xo2):\n",
    "    yI=y+betta_syn*(g1*xi(xo1)*(x_rp-x)+g2*xi(xo2)*(x_rp-x))/2 #calculating y+I chemical\n",
    "    if x <= 0:\n",
    "        res=1\n",
    "    elif (x<(a+yI)) and (z<=0):\n",
    "        res=1\n",
    "    elif (x>=(a+yI)) or (z>0):\n",
    "        res=0\n",
    "    return res\n",
    "\n",
    "def xi(x):\n",
    "    if(x>-0.8):\n",
    "        a=1\n",
    "    else:\n",
    "        a=0\n",
    "    return a"
   ]
  },
  {
   "cell_type": "code",
   "execution_count": 157,
   "metadata": {},
   "outputs": [],
   "source": [
    "lyaps=[]\n",
    "gpermas=[]\n",
    "number=100 #number of experiments to calculate lyapunovs exponent\n",
    "koef=number/10 #g1=g2 changes from 0 to 10\n",
    "for gper in range(number):\n",
    "    g1=gper/koef\n",
    "    g2=gper/koef\n",
    "\n",
    "    \n",
    "    \n",
    "    x1=[]\n",
    "    y1=[]\n",
    "    z1=[]\n",
    "    x2=[]\n",
    "    y2=[]\n",
    "    z2=[]\n",
    "    x3=[]\n",
    "    y3=[]\n",
    "    z3=[]\n",
    "    I11=[]\n",
    "    I12=[]\n",
    "    I21=[]\n",
    "    I22=[]\n",
    "    I31=[]\n",
    "    I32=[]\n",
    "    T=[]\n",
    "\n",
    "    for i in range(n):\n",
    "        x1+=[0.0]\n",
    "        y1+=[0.0]\n",
    "        z1+=[0.0]\n",
    "        x2+=[0.0]\n",
    "        y2+=[0.0]\n",
    "        z2+=[0.0]\n",
    "        x3+=[0.0]\n",
    "        y3+=[0.0]\n",
    "        z3+=[0.0]\n",
    "        I11+=[0.0]\n",
    "        I12+=[0.0]\n",
    "        I21+=[0.0]\n",
    "        I22+=[0.0]\n",
    "        I31+=[0.0]\n",
    "        I32+=[0.0]\n",
    "        T+=[i]\n",
    "\n",
    "    if((g1>0)&(g2>0)):\n",
    "        K1=2.0\n",
    "        K2=2.0\n",
    "        K3=2.0\n",
    "    else:\n",
    "        K1=1.0\n",
    "        K2=1.0\n",
    "        K3=1.0\n",
    "\n",
    "    x1[0]=0\n",
    "    y1[0]=0\n",
    "    z1[0]=0\n",
    "\n",
    "    x2[0]=0.5\n",
    "    y2[0]=-1.5\n",
    "    z2[0]=0\n",
    "\n",
    "    x3[0]=-1\n",
    "    y3[0]=-2.8\n",
    "    z3[0]=0\n",
    "\n",
    "    I11[0]=g1*(x_rp-x1[0])*xi(x3[0])\n",
    "    I12[0]=g2*(x_rp-x1[0])*xi(x2[0])\n",
    "    x1[1]=fun(x1[0], (y1[0]+betta_syn*(I11[0]+I12[0])/(K1)), z1[0], alpha_1)\n",
    "    y1[1]=y1[0]+mu_1*(-x1[0]-1+sigma_1+sigma_syn*(I11[0]+I12[0])/(K1))\n",
    "    z1[1]=x1[0]\n",
    "\n",
    "\n",
    "    I21[0]=g1*(x_rp-x2[0])*xi(x1[0])\n",
    "    I22[0]=g2*(x_rp-x2[0])*xi(x3[0])\n",
    "    x2[1]=fun(x2[0], (y2[0]+betta_syn*(I21[0]+I22[0])/(K2)), z2[0], alpha_2)\n",
    "    y2[1]=y2[0]+mu_1*(-x2[0]-1+sigma_2+sigma_syn*(I21[0]+I22[0])/(K2))\n",
    "    z2[1]=x2[0]\n",
    "\n",
    "\n",
    "    I31[0]=g1*(x_rp-x3[0])*xi(x2[0])\n",
    "    I32[0]=g2*(x_rp-x3[0])*xi(x1[0])\n",
    "    x3[1]=fun(x3[0], (y3[0]+betta_syn*(I31[0]+I32[0])/(K3)), z3[0], alpha_3)\n",
    "    y3[1]=y3[0]+mu_1*(-x3[0]-1+sigma_3+sigma_syn*(I31[0]+I32[0])/(K3))\n",
    "    z3[1]=x3[0]\n",
    "\n",
    "    for i in range(n-1):\n",
    "        if(i>0):\n",
    "            I11[i]=g1*(x_rp-x1[i])*xi(x3[i])\n",
    "            I12[i]=g2*(x_rp-x1[i])*xi(x2[i])\n",
    "            x1[i+1]=fun(x1[i], (y1[i]+betta_syn*(I11[i]+I12[i])/(K1)), z1[i], alpha_1)\n",
    "            y1[i+1]=y1[i]+mu_1*(-x1[i]-1+sigma_1+sigma_syn*(I11[i]+I12[i])/(K1))\n",
    "            z1[i+1]=x1[i]\n",
    "\n",
    "\n",
    "            I21[i]=g1*(x_rp-x2[i])*xi(x1[i])\n",
    "            I22[i]=g2*(x_rp-x2[i])*xi(x3[i])\n",
    "            x2[i+1]=fun(x2[i], (y2[i]+betta_syn*(I21[i]+I22[i])/(K2)), z2[i], alpha_2)\n",
    "            y2[i+1]=y2[i]+mu_1*(-x2[i]-1+sigma_2+sigma_syn*(I21[i]+I22[i])/(K2))\n",
    "            z2[i+1]=x2[i]\n",
    "\n",
    "\n",
    "            I31[i]=g1*(x_rp-x3[i])*xi(x2[i])\n",
    "            I32[i]=g2*(x_rp-x3[i])*xi(x1[i])\n",
    "            x3[i+1]=fun(x3[i], (y3[i]+betta_syn*(I31[i]+I32[i])/(K3)), z3[i], alpha_3)\n",
    "            y3[i+1]=y3[i]+mu_1*(-x3[i]-1+sigma_3+sigma_syn*(I31[i]+I32[i])/(K3))\n",
    "            z3[i+1]=x3[i]\n",
    "\n",
    "    x1=x1[n1:n]\n",
    "    y1=y1[n1:n]\n",
    "    z1=z1[n1:n]\n",
    "    x2=x2[n1:n]\n",
    "    y2=y2[n1:n]\n",
    "    z2=z2[n1:n]\n",
    "    x3=x3[n1:n]\n",
    "    y3=y3[n1:n]\n",
    "    z3=z3[n1:n]\n",
    "    T=T[n1:n]\n",
    "\n",
    "    N = n-n1\n",
    "    M = 9\n",
    "    m = [ [i]*M for i in range(N) ]\n",
    "    for i in range(n-n1):\n",
    "        m[i][0]=x1[i]\n",
    "        m[i][1]=y1[i]\n",
    "        m[i][2]=z1[i]\n",
    "        m[i][3]=x2[i]\n",
    "        m[i][4]=y2[i]\n",
    "        m[i][5]=z2[i]\n",
    "        m[i][6]=x3[i]\n",
    "        m[i][7]=y3[i]\n",
    "        m[i][8]=z3[i]\n",
    "\n",
    "    W=np.eye(9)\n",
    "    V=np.eye(9)\n",
    "    J=np.zeros((9,9))\n",
    "    #sum=[0,0,0,0,0,0,0,0,0]\n",
    "    #lyap=[0,0,0,0,0,0,0,0,0]\n",
    "    suma=lyap=0.0\n",
    "    for k in range(1,(n-n1)):\n",
    "        J[0][0]=dfdx(m[k][0], m[k][1], m[k][2], alpha_1, m[k][6], m[k][3])\n",
    "        J[0][1]=dfdy(m[k][0], m[k][1], m[k][2], alpha_1, m[k][6], m[k][3])\n",
    "        J[0][2]=0\n",
    "        J[1][0]=mu_1*(-1-sigma_1/K1*(g1*xi(m[k][6])+g2*(xi(m[k][3]))))\n",
    "        J[1][1]=1\n",
    "        J[1][2]=0\n",
    "        J[2][0]=1\n",
    "        J[2][1]=0\n",
    "        J[2][2]=0\n",
    "\n",
    "        J[3][3]=dfdx(m[k][3], m[k][4], m[k][5], alpha_1, m[k][0], m[k][6])\n",
    "        J[3][4]=dfdy(m[k][3], m[k][4], m[k][5], alpha_1, m[k][0], m[k][6])\n",
    "        J[3][5]=0\n",
    "        J[4][3]=mu_1*(-1-sigma_1/K1*(g1*xi(m[k][0])+g2*(xi(m[k][6]))))\n",
    "        J[4][4]=1\n",
    "        J[4][5]=0\n",
    "        J[5][3]=1\n",
    "        J[5][4]=0\n",
    "        J[5][5]=0\n",
    "\n",
    "        J[6][6]=dfdx(m[k][6], m[k][7], m[k][8], alpha_1, m[k][3], m[k][0])\n",
    "        J[6][7]=dfdy(m[k][6], m[k][7], m[k][8], alpha_1, m[k][3], m[k][0])\n",
    "        J[6][8]=0\n",
    "        J[7][6]=mu_1*(-1-sigma_1/K1*(g1*xi(m[k][3])+g2*xi(m[k][0])))\n",
    "        J[7][7]=1\n",
    "        J[7][8]=0\n",
    "        J[8][6]=1\n",
    "        J[8][7]=0\n",
    "        J[8][8]=0\n",
    "\n",
    "        V[:, 1]=J.dot(W[:, 1])\n",
    "        W[:, 1]=V[:, 1]/norm(V[:, 1])\n",
    "        suma=suma+math.log(norm(V[:, 1]))\n",
    "        lyap=suma/k\n",
    "\n",
    "        #ka=0\n",
    "        #for ka in range(9):\n",
    "        #V[:,ka]=J.dot(W[:, ka])\n",
    "        #if (norm(V[:,ka])!=0):\n",
    "        #    W[:,ka]=V[:,ka]/norm(V[:,ka])\n",
    "        #    sum[ka]+=math.log(norm(V[:,ka]))\n",
    "        #    lyap[ka]=sum[ka]/k\n",
    "\n",
    "\n",
    "\n",
    "    #lyap.sort()\n",
    "    #print(lyap)\n",
    "    lyaps+=[lyap]\n",
    "    gpermas+=[gper/koef]\n",
    "#print(lyap)\n"
   ]
  },
  {
   "cell_type": "code",
   "execution_count": 158,
   "metadata": {},
   "outputs": [
    {
     "data": {
      "image/png": "[encoded data removed]",
      "text/plain": [
       "<Figure size 432x288 with 1 Axes>"
      ]
     },
     "metadata": {
      "needs_background": "light"
     },
     "output_type": "display_data"
    }
   ],
   "source": [
    "#fig, ax = plt.subplots(figsize = (8, 8))\n",
    "plt.plot(gpermas, lyaps, color = 'blue')\n",
    "plt.plot([0,3,5,10], [0,0,0,0], color = 'black')\n",
    "plt.xlabel('g1=g2', fontsize=15)\n",
    "plt.ylabel('l', fontsize=15)\n",
    "plt.tick_params(labelsize=15)\n",
    "plt.show()"
   ]
  },
  {
   "cell_type": "code",
   "execution_count": 159,
   "metadata": {},
   "outputs": [
    {
     "data": {
      "image/png": "[encoded data removed]",
      "text/plain": [
       "<Figure size 432x288 with 1 Axes>"
      ]
     },
     "metadata": {
      "needs_background": "light"
     },
     "output_type": "display_data"
    }
   ],
   "source": [
    "plt.plot(gpermas,lyaps,'bo')\n",
    "plt.plot([0,3,5,10], [0,0,0,0], color = 'black')\n",
    "plt.xlabel('g1=g2', fontsize=15)\n",
    "plt.ylabel('l', fontsize=15)\n",
    "plt.show()"
   ]
  },
  {
   "cell_type": "code",
   "execution_count": 160,
   "metadata": {},
   "outputs": [
    {
     "name": "stdout",
     "output_type": "stream",
     "text": [
      "[-0.0011385270194091916, -0.0022638088915804253, -0.0038822278597772405, -0.0034836801504064025, -0.00512743044534186, -0.008130045292674573, -0.011255093651816461, -0.011622011099684724, -0.028630126290892528, -0.021141030657599043, -0.040969957931339375, -0.05496795346802477, -0.05411207666162714, -0.08762583574487845, 0.013820639480888065, 0.02472160104182996, 0.0316048278976852, 0.024667370667457802, 0.041284757897157756, 0.044258148343937896, 0.045166819018426896, 0.04812376753837699, 0.04505140518428169, 0.01742980225610759, 0.03250676422317953, 0.02198293772357833, 0.02755862443757805, 0.025304471536557963, 0.022155881263358202, 0.03697345647747569, 0.032423959254586174, 0.02477932008094097, 0.023465136382860366, 0.03654423562756118, 0.025500706653314664, 0.03883426598705813, 0.019609223475812385, 0.024565580077642674, 0.027744780764977623, 0.035202491199577024, 0.033858460437658035, 0.026144342972133916, 0.028069835468958883, 0.02210039745853731, 0.015155763569363503, -0.004840059060755049, -0.004840059060755049, -0.0021502490948377122, -0.002150249094835652, -0.002320432207101188, -0.0010621857692607276, -0.001062225738334551, -0.001138524036435683, -0.0011386089237210152, -0.0010622257528743846, -0.0010622257829257776, -0.0011386089292600705, -0.001062225781235943, -0.001138608925125241, -0.0011385240557763216, -0.0010621857919737472, -0.0010621858015314584, -0.0011385240652866115, -0.0010621857857860302, -0.0010622257837463133, -0.0011385240432593838, -0.0010622257875026037, -0.0011386089335529003, -0.0010622257783998847, -0.0010621857674490312, -0.0010621857817085332, -0.001062225796518326, -0.0010621858007053384, -0.0011386089592008096, -0.001062185820906666, -0.0011385240743680184, -0.0010622257856296718, -0.0010621858014904556, -0.0011385240775212383, -0.0010622257994558997, -0.0010622257890707818, -0.0010621858081817776, -0.001138608947920543, -0.0011385240593399027, -0.0011385240707640339, -0.001062225788971891, -0.0010621858069708172, -0.0010621858377290261, -0.001138524060798986, -0.0011386089427321223, -0.0010622257803812078, -0.0010621858114533307, -0.001138608939112748, -0.0011385240741123048, -0.001062225790160722, -0.0010621858204677976, -0.0011386089035104099, -0.001062225790205636, -0.0010621858367882665, -0.0010621858305211271]\n"
     ]
    }
   ],
   "source": [
    "print(lyaps)"
   ]
  },
  {
   "cell_type": "code",
   "execution_count": 161,
   "metadata": {},
   "outputs": [
    {
     "data": {
      "text/plain": [
       "<matplotlib.colorbar.Colorbar at 0x270221f2be0>"
      ]
     },
     "execution_count": 161,
     "metadata": {},
     "output_type": "execute_result"
    },
    {
     "data": {
      "image/png": "[encoded data removed]",
      "text/plain": [
       "<Figure size 432x288 with 2 Axes>"
      ]
     },
     "metadata": {
      "needs_background": "light"
     },
     "output_type": "display_data"
    }
   ],
   "source": [
    "b=np.array([lyaps])\n",
    "b=b.reshape(int(math.sqrt(number)),int(math.sqrt(number)))\n",
    "plt.pcolor(b)\n",
    "plt.colorbar()"
   ]
  }
 ],
 "metadata": {
  "interpreter": {
   "hash": "1f8d80d535cfd832283e4e3a1095d2ce45fe6627336684f2622a1965babb2f1c"
  },
  "kernelspec": {
   "display_name": "Python 3.9.7 64-bit (windows store)",
   "name": "python3"
  },
  "language_info": {
   "codemirror_mode": {
    "name": "ipython",
    "version": 3
   },
   "file_extension": ".py",
   "mimetype": "text/x-python",
   "name": "python",
   "nbconvert_exporter": "python",
   "pygments_lexer": "ipython3",
   "version": "3.9.7"
  },
  "orig_nbformat": 4
 },
 "nbformat": 4,
 "nbformat_minor": 2
}
